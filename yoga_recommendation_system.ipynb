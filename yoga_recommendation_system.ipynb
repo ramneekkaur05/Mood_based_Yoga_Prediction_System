{
  "nbformat": 4,
  "nbformat_minor": 0,
  "metadata": {
    "colab": {
      "provenance": []
    },
    "kernelspec": {
      "name": "python3",
      "display_name": "Python 3"
    },
    "language_info": {
      "name": "python"
    }
  },
  "cells": [
    {
      "cell_type": "code",
      "source": [
        "def map_sentiment_to_mood(score):\n",
        "  # if score >= 0.9 or score <= -0.9:\n",
        "  #     return 3  # overwhelming\n",
        "  if score >= 0:\n",
        "      return 2  # happy\n",
        "  elif score >= -0.5:\n",
        "      return 4  # sad\n",
        "  elif score >= -0.7:\n",
        "      return 0  # angry\n",
        "  else:\n",
        "    return 0\n",
        "\n",
        "\n",
        "mood_to_yoga = {\n",
        "    0: [  # Angry\n",
        "        \"Child's Pose\",\n",
        "        \"Cat-Cow\",\n",
        "        \"Breathing exercises\",\n",
        "        \"Seated Forward Fold\",\n",
        "        \"Puppy Pose\",\n",
        "        \"Supine Twist\",\n",
        "        \"Reclined Bound Angle Pose\",\n",
        "        \"Thread the Needle Pose\",\n",
        "        \"Happy Baby Pose\",\n",
        "        \"Standing Forward Bend\",\n",
        "        \"Garland Pose\",\n",
        "        \"Sphinx Pose\"\n",
        "    ], 2: [  # Happy\n",
        "        \"Warrior Pose\",\n",
        "        \"Tree Pose\",\n",
        "        \"Bridge Pose\",\n",
        "        \"Extended Triangle Pose\",\n",
        "        \"Half Moon Pose\",\n",
        "        \"Chair Pose\",\n",
        "        \"Standing Backbend\",\n",
        "        \"Revolved Side Angle Pose\",\n",
        "        \"Upward Salute Pose\",\n",
        "        \"Dancer Pose\",\n",
        "        \"Wide-Legged Forward Bend\"\n",
        "    ], 4: [  # Sad\n",
        "        \"Legs-Up-The-Wall\",\n",
        "        \"Upward Facing Dog\",\n",
        "        \"Camel Pose\",\n",
        "        \"Cobra Pose\",\n",
        "        \"Butterfly Pose\",\n",
        "        \"Fish Pose\",\n",
        "        \"Low Lunge Pose\",\n",
        "        \"Supported Bridge Pose\",\n",
        "        \"Cow Face Pose\",\n",
        "        \"Hero Pose\",\n",
        "        \"Lotus Pose\",\n",
        "        \"Extended Puppy Pose\"\n",
        "    ]\n",
        "}\n",
        "\n",
        "def recommend_yoga(mood):\n",
        "  return mood_to_yoga.get(mood,\"No routine available\")\n",
        "\n",
        "\n",
        "\n",
        "review = input(\"enter how was your day ma'am/sir :\")\n",
        "sentiment = sia.polarity_scores(review)\n",
        "print(sentiment)\n",
        "score = sentiment['compound']\n",
        "\n",
        "\n",
        "predicted_mood = map_sentiment_to_mood(score)\n",
        "print(\"predicted mood is -: \",predicted_mood)\n",
        "recommended_yoga = recommend_yoga(predicted_mood)\n",
        "if(predicted_mood == 0):\n",
        "  print(\"calm down ma'am/sir and try some yoga poses as they will help you to heel down. Try these poses for 20 min -:\\n\")\n",
        "  l = random.sample(recommended_yoga, 3)\n",
        "  for i in l:\n",
        "    print(i)\n",
        "\n",
        "elif(predicted_mood == 2):\n",
        "  print(\"Happy to know that ur day is going well. Try these poses for 25 min as yoga is not just for patients :)\\n\")\n",
        "  l = random.sample(recommended_yoga, 3)\n",
        "  for i in l:\n",
        "    print(i)\n",
        "\n",
        "elif(predicted_mood == 4):\n",
        "  print(\"Don't feel low ma'am/sir. Everything is meant to be okay at the end. Try these yoga postures for 20 min as they will help u feel good -:\\n\")\n",
        "  l = random.sample(recommended_yoga, 3)\n",
        "  for i in l:\n",
        "    print(i)\n",
        "\n"
      ],
      "metadata": {
        "id": "dam8jtDAe_L_"
      },
      "execution_count": null,
      "outputs": []
    },
    {
      "cell_type": "code",
      "source": [
        "print(\"https://www.theyogacollective.com/wp-content/uploads/2019/10/4143473057707883372_IMG_8546-2-1200x800.jpg\")"
      ],
      "metadata": {
        "colab": {
          "base_uri": "https://localhost:8080/"
        },
        "id": "UP8fHsx-e_Ic",
        "outputId": "78a493d0-8861-4ff0-f0b2-7a4303b651a5"
      },
      "execution_count": null,
      "outputs": [
        {
          "output_type": "stream",
          "name": "stdout",
          "text": [
            "https://www.theyogacollective.com/wp-content/uploads/2019/10/4143473057707883372_IMG_8546-2-1200x800.jpg\n"
          ]
        }
      ]
    }
  ]
}